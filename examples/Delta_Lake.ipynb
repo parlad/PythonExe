{
  "nbformat": 4,
  "nbformat_minor": 0,
  "metadata": {
    "colab": {
      "name": "Delta Lake.ipynb",
      "provenance": [],
      "toc_visible": true,
      "include_colab_link": true
    },
    "kernelspec": {
      "name": "python3",
      "display_name": "Python 3"
    }
  },
  "cells": [
    {
      "cell_type": "markdown",
      "metadata": {
        "id": "view-in-github",
        "colab_type": "text"
      },
      "source": [
        "<a href=\"https://colab.research.google.com/github/parlad/PythonExe/blob/master/examples/Delta_Lake.ipynb\" target=\"_parent\"><img src=\"https://colab.research.google.com/assets/colab-badge.svg\" alt=\"Open In Colab\"/></a>"
      ]
    },
    {
      "cell_type": "code",
      "source": [
        "!pip install pyspark==3.3.2"
      ],
      "metadata": {
        "colab": {
          "base_uri": "https://localhost:8080/"
        },
        "id": "d1tKQC3Eiilt",
        "outputId": "aaa0b194-0640-480b-a236-b31d4c05708f"
      },
      "execution_count": 26,
      "outputs": [
        {
          "output_type": "stream",
          "name": "stdout",
          "text": [
            "Looking in indexes: https://pypi.org/simple, https://us-python.pkg.dev/colab-wheels/public/simple/\n",
            "Collecting pyspark==3.3.2\n",
            "  Using cached pyspark-3.3.2-py2.py3-none-any.whl\n",
            "Requirement already satisfied: py4j==0.10.9.5 in /usr/local/lib/python3.9/dist-packages (from pyspark==3.3.2) (0.10.9.5)\n",
            "Installing collected packages: pyspark\n",
            "  Attempting uninstall: pyspark\n",
            "    Found existing installation: pyspark 3.2.4\n",
            "    Uninstalling pyspark-3.2.4:\n",
            "      Successfully uninstalled pyspark-3.2.4\n",
            "\u001b[31mERROR: pip's dependency resolver does not currently take into account all the packages that are installed. This behaviour is the source of the following dependency conflicts.\n",
            "delta-spark 1.1.0 requires pyspark<3.3.0,>=3.2.0, but you have pyspark 3.3.2 which is incompatible.\u001b[0m\u001b[31m\n",
            "\u001b[0mSuccessfully installed pyspark-3.3.2\n"
          ]
        }
      ]
    },
    {
      "cell_type": "code",
      "source": [
        "!pip install delta-spark==1.1.0"
      ],
      "metadata": {
        "colab": {
          "base_uri": "https://localhost:8080/",
          "height": 357
        },
        "id": "4nF2--kGijU_",
        "outputId": "e4efbfb8-b47d-480e-857e-9cbec464134d"
      },
      "execution_count": 27,
      "outputs": [
        {
          "output_type": "stream",
          "name": "stdout",
          "text": [
            "Looking in indexes: https://pypi.org/simple, https://us-python.pkg.dev/colab-wheels/public/simple/\n",
            "Requirement already satisfied: delta-spark==1.1.0 in /usr/local/lib/python3.9/dist-packages (1.1.0)\n",
            "Collecting pyspark<3.3.0,>=3.2.0\n",
            "  Using cached pyspark-3.2.4-py2.py3-none-any.whl\n",
            "Requirement already satisfied: importlib-metadata>=1.0.0 in /usr/local/lib/python3.9/dist-packages (from delta-spark==1.1.0) (6.6.0)\n",
            "Requirement already satisfied: zipp>=0.5 in /usr/local/lib/python3.9/dist-packages (from importlib-metadata>=1.0.0->delta-spark==1.1.0) (3.15.0)\n",
            "Requirement already satisfied: py4j==0.10.9.5 in /usr/local/lib/python3.9/dist-packages (from pyspark<3.3.0,>=3.2.0->delta-spark==1.1.0) (0.10.9.5)\n",
            "Installing collected packages: pyspark\n",
            "  Attempting uninstall: pyspark\n",
            "    Found existing installation: pyspark 3.3.2\n",
            "    Uninstalling pyspark-3.3.2:\n",
            "      Successfully uninstalled pyspark-3.3.2\n",
            "Successfully installed pyspark-3.2.4\n"
          ]
        },
        {
          "output_type": "display_data",
          "data": {
            "application/vnd.colab-display-data+json": {
              "pip_warning": {
                "packages": [
                  "pyspark"
                ]
              }
            }
          },
          "metadata": {}
        }
      ]
    },
    {
      "cell_type": "code",
      "source": [
        "from pyspark.sql import SparkSession\n",
        "\n",
        "spark = SparkSession.builder \\\n",
        "    .appName(\"MyApp\") \\\n",
        "    .master(\"local[*]\") \\\n",
        "    .config(\"spark.driver.memory\", \"8g\") \\\n",
        "    .config(\"spark.executor.memory\", \"8g\") \\\n",
        "    .config(\"spark.driver.maxResultSize\", \"2g\") \\\n",
        "    .config(\"spark.delta.logStore.class\", \"org.apache.spark.sql.delta.storage.S3SingleDriverLogStore\") \\\n",
        "    .config(\"spark.jars.packages\", \"io.delta:delta-core_2.12:1.1.0\") \\\n",
        "    .getOrCreate()\n",
        "\n",
        "# Test if PySpark works\n",
        "df = spark.createDataFrame([(1, 2), (3, 4)], [\"A\", \"B\"])\n",
        "df.show()"
      ],
      "metadata": {
        "colab": {
          "base_uri": "https://localhost:8080/"
        },
        "id": "EdiuGaeJiwPl",
        "outputId": "0fc89103-b427-469d-ee99-978df2eb0f3e"
      },
      "execution_count": 1,
      "outputs": [
        {
          "output_type": "stream",
          "name": "stdout",
          "text": [
            "+---+---+\n",
            "|  A|  B|\n",
            "+---+---+\n",
            "|  1|  2|\n",
            "|  3|  4|\n",
            "+---+---+\n",
            "\n"
          ]
        }
      ]
    },
    {
      "cell_type": "code",
      "source": [
        "print(spark.version)"
      ],
      "metadata": {
        "colab": {
          "base_uri": "https://localhost:8080/"
        },
        "id": "U36sk2iBjWBa",
        "outputId": "f194d11e-e49e-47ae-901c-dbff63733e80"
      },
      "execution_count": 2,
      "outputs": [
        {
          "output_type": "stream",
          "name": "stdout",
          "text": [
            "3.2.4\n"
          ]
        }
      ]
    },
    {
      "cell_type": "code",
      "source": [
        "ls /usr/local/lib/python3.9/dist-packages/pyspark/jars/"
      ],
      "metadata": {
        "colab": {
          "base_uri": "https://localhost:8080/"
        },
        "id": "DXwWCMatjdEi",
        "outputId": "0597d756-48a8-4125-8119-14a86c3dd773"
      },
      "execution_count": 3,
      "outputs": [
        {
          "output_type": "stream",
          "name": "stdout",
          "text": [
            "activation-1.1.1.jar\n",
            "aircompressor-0.21.jar\n",
            "algebra_2.12-2.0.1.jar\n",
            "annotations-17.0.0.jar\n",
            "antlr4-runtime-4.8.jar\n",
            "antlr-runtime-3.5.2.jar\n",
            "aopalliance-repackaged-2.6.1.jar\n",
            "arpack-2.2.1.jar\n",
            "arpack_combined_all-0.1.jar\n",
            "arrow-format-2.0.0.jar\n",
            "arrow-memory-core-2.0.0.jar\n",
            "arrow-memory-netty-2.0.0.jar\n",
            "arrow-vector-2.0.0.jar\n",
            "audience-annotations-0.5.0.jar\n",
            "automaton-1.11-8.jar\n",
            "avro-1.10.2.jar\n",
            "avro-ipc-1.10.2.jar\n",
            "avro-mapred-1.10.2.jar\n",
            "blas-2.2.1.jar\n",
            "bonecp-0.8.0.RELEASE.jar\n",
            "breeze_2.12-1.2.jar\n",
            "breeze-macros_2.12-1.2.jar\n",
            "cats-kernel_2.12-2.1.1.jar\n",
            "chill_2.12-0.10.0.jar\n",
            "chill-java-0.10.0.jar\n",
            "commons-cli-1.2.jar\n",
            "commons-codec-1.15.jar\n",
            "commons-collections-3.2.2.jar\n",
            "commons-compiler-3.0.16.jar\n",
            "commons-compress-1.21.jar\n",
            "commons-crypto-1.1.0.jar\n",
            "commons-dbcp-1.4.jar\n",
            "commons-io-2.8.0.jar\n",
            "commons-lang-2.6.jar\n",
            "commons-lang3-3.12.0.jar\n",
            "commons-logging-1.1.3.jar\n",
            "commons-math3-3.4.1.jar\n",
            "commons-net-3.1.jar\n",
            "commons-pool-1.5.4.jar\n",
            "commons-text-1.10.0.jar\n",
            "compress-lzf-1.0.3.jar\n",
            "core-1.1.2.jar\n",
            "curator-client-2.13.0.jar\n",
            "curator-framework-2.13.0.jar\n",
            "curator-recipes-2.13.0.jar\n",
            "datanucleus-api-jdo-4.2.4.jar\n",
            "datanucleus-core-4.1.17.jar\n",
            "datanucleus-rdbms-4.1.19.jar\n",
            "derby-10.14.2.0.jar\n",
            "dropwizard-metrics-hadoop-metrics2-reporter-0.1.2.jar\n",
            "flatbuffers-java-1.9.0.jar\n",
            "generex-1.0.2.jar\n",
            "gson-2.2.4.jar\n",
            "guava-14.0.1.jar\n",
            "hadoop-client-api-3.3.1.jar\n",
            "hadoop-client-runtime-3.3.1.jar\n",
            "hadoop-shaded-guava-1.1.1.jar\n",
            "hadoop-yarn-server-web-proxy-3.3.1.jar\n",
            "HikariCP-2.5.1.jar\n",
            "hive-beeline-2.3.9.jar\n",
            "hive-cli-2.3.9.jar\n",
            "hive-common-2.3.9.jar\n",
            "hive-exec-2.3.9-core.jar\n",
            "hive-jdbc-2.3.9.jar\n",
            "hive-llap-common-2.3.9.jar\n",
            "hive-metastore-2.3.9.jar\n",
            "hive-serde-2.3.9.jar\n",
            "hive-service-rpc-3.1.2.jar\n",
            "hive-shims-0.23-2.3.9.jar\n",
            "hive-shims-2.3.9.jar\n",
            "hive-shims-common-2.3.9.jar\n",
            "hive-shims-scheduler-2.3.9.jar\n",
            "hive-storage-api-2.7.2.jar\n",
            "hive-vector-code-gen-2.3.9.jar\n",
            "hk2-api-2.6.1.jar\n",
            "hk2-locator-2.6.1.jar\n",
            "hk2-utils-2.6.1.jar\n",
            "htrace-core4-4.1.0-incubating.jar\n",
            "httpclient-4.5.13.jar\n",
            "httpcore-4.4.14.jar\n",
            "istack-commons-runtime-3.0.8.jar\n",
            "ivy-2.5.1.jar\n",
            "jackson-annotations-2.12.3.jar\n",
            "jackson-core-2.12.3.jar\n",
            "jackson-core-asl-1.9.13.jar\n",
            "jackson-databind-2.12.3.jar\n",
            "jackson-dataformat-yaml-2.12.3.jar\n",
            "jackson-datatype-jsr310-2.11.2.jar\n",
            "jackson-mapper-asl-1.9.13.jar\n",
            "jackson-module-scala_2.12-2.12.3.jar\n",
            "jakarta.annotation-api-1.3.5.jar\n",
            "jakarta.inject-2.6.1.jar\n",
            "jakarta.servlet-api-4.0.3.jar\n",
            "jakarta.validation-api-2.0.2.jar\n",
            "jakarta.ws.rs-api-2.1.6.jar\n",
            "jakarta.xml.bind-api-2.3.2.jar\n",
            "janino-3.0.16.jar\n",
            "javassist-3.25.0-GA.jar\n",
            "javax.jdo-3.2.0-m3.jar\n",
            "javolution-5.5.1.jar\n",
            "jaxb-api-2.2.11.jar\n",
            "jaxb-runtime-2.3.2.jar\n",
            "jcl-over-slf4j-1.7.30.jar\n",
            "jdo-api-3.0.1.jar\n",
            "jersey-client-2.34.jar\n",
            "jersey-common-2.34.jar\n",
            "jersey-container-servlet-2.34.jar\n",
            "jersey-container-servlet-core-2.34.jar\n",
            "jersey-hk2-2.34.jar\n",
            "jersey-server-2.34.jar\n",
            "JLargeArrays-1.5.jar\n",
            "jline-2.14.6.jar\n",
            "joda-time-2.10.10.jar\n",
            "jodd-core-3.5.2.jar\n",
            "jpam-1.1.jar\n",
            "json-1.8.jar\n",
            "json4s-ast_2.12-3.7.0-M11.jar\n",
            "json4s-core_2.12-3.7.0-M11.jar\n",
            "json4s-jackson_2.12-3.7.0-M11.jar\n",
            "json4s-scalap_2.12-3.7.0-M11.jar\n",
            "jsr305-3.0.0.jar\n",
            "jta-1.1.jar\n",
            "JTransforms-3.1.jar\n",
            "jul-to-slf4j-1.7.30.jar\n",
            "kryo-shaded-4.0.2.jar\n",
            "kubernetes-client-5.4.1.jar\n",
            "kubernetes-model-admissionregistration-5.4.1.jar\n",
            "kubernetes-model-apiextensions-5.4.1.jar\n",
            "kubernetes-model-apps-5.4.1.jar\n",
            "kubernetes-model-autoscaling-5.4.1.jar\n",
            "kubernetes-model-batch-5.4.1.jar\n",
            "kubernetes-model-certificates-5.4.1.jar\n",
            "kubernetes-model-common-5.4.1.jar\n",
            "kubernetes-model-coordination-5.4.1.jar\n",
            "kubernetes-model-core-5.4.1.jar\n",
            "kubernetes-model-discovery-5.4.1.jar\n",
            "kubernetes-model-events-5.4.1.jar\n",
            "kubernetes-model-extensions-5.4.1.jar\n",
            "kubernetes-model-flowcontrol-5.4.1.jar\n",
            "kubernetes-model-metrics-5.4.1.jar\n",
            "kubernetes-model-networking-5.4.1.jar\n",
            "kubernetes-model-node-5.4.1.jar\n",
            "kubernetes-model-policy-5.4.1.jar\n",
            "kubernetes-model-rbac-5.4.1.jar\n",
            "kubernetes-model-scheduling-5.4.1.jar\n",
            "kubernetes-model-storageclass-5.4.1.jar\n",
            "lapack-2.2.1.jar\n",
            "leveldbjni-all-1.8.jar\n",
            "libfb303-0.9.3.jar\n",
            "libthrift-0.12.0.jar\n",
            "log4j-1.2.17.jar\n",
            "logging-interceptor-3.12.12.jar\n",
            "lz4-java-1.7.1.jar\n",
            "macro-compat_2.12-1.1.1.jar\n",
            "mesos-1.4.0-shaded-protobuf.jar\n",
            "metrics-core-4.2.0.jar\n",
            "metrics-graphite-4.2.0.jar\n",
            "metrics-jmx-4.2.0.jar\n",
            "metrics-json-4.2.0.jar\n",
            "metrics-jvm-4.2.0.jar\n",
            "minlog-1.3.0.jar\n",
            "netty-all-4.1.68.Final.jar\n",
            "objenesis-2.6.jar\n",
            "okhttp-3.12.12.jar\n",
            "okio-1.14.0.jar\n",
            "opencsv-2.3.jar\n",
            "orc-core-1.6.14.jar\n",
            "orc-mapreduce-1.6.14.jar\n",
            "orc-shims-1.6.14.jar\n",
            "oro-2.0.8.jar\n",
            "osgi-resource-locator-1.0.3.jar\n",
            "paranamer-2.8.jar\n",
            "parquet-column-1.12.2.jar\n",
            "parquet-common-1.12.2.jar\n",
            "parquet-encoding-1.12.2.jar\n",
            "parquet-format-structures-1.12.2.jar\n",
            "parquet-hadoop-1.12.2.jar\n",
            "parquet-jackson-1.12.2.jar\n",
            "protobuf-java-2.5.0.jar\n",
            "py4j-0.10.9.5.jar\n",
            "pyrolite-4.30.jar\n",
            "RoaringBitmap-0.9.0.jar\n",
            "rocksdbjni-6.20.3.jar\n",
            "scala-collection-compat_2.12-2.1.1.jar\n",
            "scala-compiler-2.12.15.jar\n",
            "scala-library-2.12.15.jar\n",
            "scala-parser-combinators_2.12-1.1.2.jar\n",
            "scala-reflect-2.12.15.jar\n",
            "scala-xml_2.12-1.2.0.jar\n",
            "shapeless_2.12-2.3.3.jar\n",
            "shims-0.9.0.jar\n",
            "slf4j-api-1.7.30.jar\n",
            "slf4j-log4j12-1.7.30.jar\n",
            "snakeyaml-1.27.jar\n",
            "snappy-java-1.1.8.4.jar\n",
            "spark-catalyst_2.12-3.2.4.jar\n",
            "spark-core_2.12-3.2.4.jar\n",
            "spark-graphx_2.12-3.2.4.jar\n",
            "spark-hive_2.12-3.2.4.jar\n",
            "spark-hive-thriftserver_2.12-3.2.4.jar\n",
            "spark-kubernetes_2.12-3.2.4.jar\n",
            "spark-kvstore_2.12-3.2.4.jar\n",
            "spark-launcher_2.12-3.2.4.jar\n",
            "spark-mesos_2.12-3.2.4.jar\n",
            "spark-mllib_2.12-3.2.4.jar\n",
            "spark-mllib-local_2.12-3.2.4.jar\n",
            "spark-network-common_2.12-3.2.4.jar\n",
            "spark-network-shuffle_2.12-3.2.4.jar\n",
            "spark-repl_2.12-3.2.4.jar\n",
            "spark-sketch_2.12-3.2.4.jar\n",
            "spark-sql_2.12-3.2.4.jar\n",
            "spark-streaming_2.12-3.2.4.jar\n",
            "spark-tags_2.12-3.2.4.jar\n",
            "spark-tags_2.12-3.2.4-tests.jar\n",
            "spark-unsafe_2.12-3.2.4.jar\n",
            "spark-yarn_2.12-3.2.4.jar\n",
            "spire_2.12-0.17.0.jar\n",
            "spire-macros_2.12-0.17.0.jar\n",
            "spire-platform_2.12-0.17.0.jar\n",
            "spire-util_2.12-0.17.0.jar\n",
            "ST4-4.0.4.jar\n",
            "stax-api-1.0.1.jar\n",
            "stream-2.9.6.jar\n",
            "super-csv-2.2.0.jar\n",
            "threeten-extra-1.5.0.jar\n",
            "tink-1.6.0.jar\n",
            "transaction-api-1.1.jar\n",
            "univocity-parsers-2.9.1.jar\n",
            "velocity-1.5.jar\n",
            "xbean-asm9-shaded-4.20.jar\n",
            "xz-1.8.jar\n",
            "zjsonpatch-0.3.0.jar\n",
            "zookeeper-3.6.2.jar\n",
            "zookeeper-jute-3.6.2.jar\n",
            "zstd-jni-1.5.0-4.jar\n"
          ]
        }
      ]
    },
    {
      "cell_type": "code",
      "source": [
        "from delta.tables import *\n",
        "\n",
        "data = spark.range(0, 5)\n",
        "data.write.format(\"delta\").save(\"/tmp/delta-table\")\n",
        "\n",
        "deltaTable = DeltaTable.forPath(spark, \"/tmp/delta-table\")\n",
        "deltaTable.toDF().show()"
      ],
      "metadata": {
        "colab": {
          "base_uri": "https://localhost:8080/"
        },
        "id": "C9zpzsgmi_Js",
        "outputId": "f6e0c4f3-3b2a-4eba-e7e6-a979857d1c4b"
      },
      "execution_count": 4,
      "outputs": [
        {
          "output_type": "stream",
          "name": "stdout",
          "text": [
            "+---+\n",
            "| id|\n",
            "+---+\n",
            "|  2|\n",
            "|  3|\n",
            "|  4|\n",
            "|  0|\n",
            "|  1|\n",
            "+---+\n",
            "\n"
          ]
        }
      ]
    },
    {
      "cell_type": "code",
      "source": [],
      "metadata": {
        "id": "AnPLPBBFjILA"
      },
      "execution_count": null,
      "outputs": []
    }
  ]
}